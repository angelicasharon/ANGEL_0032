{
  "nbformat": 4,
  "nbformat_minor": 0,
  "metadata": {
    "colab": {
      "provenance": [],
      "authorship_tag": "ABX9TyM+Chiidy4IuKFkfKvgEeWq",
      "include_colab_link": true
    },
    "kernelspec": {
      "name": "python3",
      "display_name": "Python 3"
    },
    "language_info": {
      "name": "python"
    }
  },
  "cells": [
    {
      "cell_type": "markdown",
      "metadata": {
        "id": "view-in-github",
        "colab_type": "text"
      },
      "source": [
        "<a href=\"https://colab.research.google.com/github/angelicasharon/Angelicashrn/blob/main/UTS/UTS_ML_Angelica_Sharon_1103210032.ipynb\" target=\"_parent\"><img src=\"https://colab.research.google.com/assets/colab-badge.svg\" alt=\"Open In Colab\"/></a>"
      ]
    },
    {
      "cell_type": "markdown",
      "source": [
        "# **UTS Machine Learning**"
      ],
      "metadata": {
        "id": "gq-FCqYKRTdj"
      }
    },
    {
      "cell_type": "markdown",
      "source": [
        "Nama: Angelica Sharon Amelia Siamnjuntak\n",
        "\n",
        "NIM: 1103210032\n",
        "\n",
        "Kelas: TK - 45 - 04\n",
        "\n",
        "Dataset: Credit score classification\n",
        "\n",
        "Model: Random Forest\n",
        "\n",
        "ChatGPT Prompt: https://chat.openai.com/share/29e22269-b18c-403e-b2d1-cec482346446"
      ],
      "metadata": {
        "id": "lJL3dHBmRU7L"
      }
    },
    {
      "cell_type": "markdown",
      "source": [
        "# **Library**"
      ],
      "metadata": {
        "id": "NYBYSV4vRaHi"
      }
    },
    {
      "cell_type": "code",
      "source": [
        "#Used for array operations and numerical manipulation\n",
        "import numpy as np\n",
        "#Used for data manipulation and data analysis\n",
        "import pandas as pd\n",
        "#encode categorical variables into numerical\n",
        "from sklearn.preprocessing import StandardScaler, LabelEncoder\n",
        "#feature selection based on mutual information\n",
        "from sklearn.feature_selection import mutual_info_classif\n",
        "#split data into training and testing data\n",
        "from sklearn.model_selection import train_test_split\n",
        "#Ensemble decision tree model\n",
        "from sklearn.ensemble import RandomForestClassifier, RandomForestRegressor\n",
        "#model evaluation\n",
        "from sklearn.metrics import classification_report, confusion_matrix, accuracy_score, mean_squared_error\n",
        "from sklearn.metrics import mean_absolute_error"
      ],
      "metadata": {
        "id": "2vLpAAcqRWhF"
      },
      "execution_count": 123,
      "outputs": []
    },
    {
      "cell_type": "markdown",
      "source": [
        "# **Import File**"
      ],
      "metadata": {
        "id": "zKgJUTfoRc3Q"
      }
    },
    {
      "cell_type": "code",
      "source": [
        "from google.colab import drive\n",
        "drive.mount('/content/drive')"
      ],
      "metadata": {
        "colab": {
          "base_uri": "https://localhost:8080/"
        },
        "id": "SeLDmd4wRe9Y",
        "outputId": "e2d6661b-b41e-429f-a7e4-e128cc582150"
      },
      "execution_count": 124,
      "outputs": [
        {
          "output_type": "stream",
          "name": "stdout",
          "text": [
            "Drive already mounted at /content/drive; to attempt to forcibly remount, call drive.mount(\"/content/drive\", force_remount=True).\n"
          ]
        }
      ]
    },
    {
      "cell_type": "code",
      "source": [
        "# Load the data\n",
        "data_test = pd.read_csv(\"/content/drive/MyDrive/Dataset1/test.csv\")\n",
        "data_train = pd.read_csv(\"/content/drive/MyDrive/Dataset1/train.csv\")\n",
        "\n",
        "# Display the data test\n",
        "print(\"\\nDATA TEST\\n\")\n",
        "print(data_test.head(5))\n",
        "\n",
        "# Display the data train\n",
        "print(\"\\nDATA TRAIN\\n\")\n",
        "print(data_test.head(5))"
      ],
      "metadata": {
        "colab": {
          "base_uri": "https://localhost:8080/"
        },
        "id": "0m7f_IfXRqgx",
        "outputId": "e2da22d2-864e-4bda-9ad3-b93727ffa006"
      },
      "execution_count": 125,
      "outputs": [
        {
          "output_type": "stream",
          "name": "stdout",
          "text": [
            "\n",
            "DATA TEST\n",
            "\n",
            "       ID Customer_ID      Month             Name  Age          SSN  \\\n",
            "0  0x160a   CUS_0xd40  September    Aaron Maashoh   23  821-00-0265   \n",
            "1  0x160b   CUS_0xd40    October    Aaron Maashoh   24  821-00-0265   \n",
            "2  0x160c   CUS_0xd40   November    Aaron Maashoh   24  821-00-0265   \n",
            "3  0x160d   CUS_0xd40   December    Aaron Maashoh  24_  821-00-0265   \n",
            "4  0x1616  CUS_0x21b1  September  Rick Rothackerj   28  004-07-5839   \n",
            "\n",
            "  Occupation Annual_Income  Monthly_Inhand_Salary  Num_Bank_Accounts  ...  \\\n",
            "0  Scientist      19114.12            1824.843333                  3  ...   \n",
            "1  Scientist      19114.12            1824.843333                  3  ...   \n",
            "2  Scientist      19114.12            1824.843333                  3  ...   \n",
            "3  Scientist      19114.12                    NaN                  3  ...   \n",
            "4    _______      34847.84            3037.986667                  2  ...   \n",
            "\n",
            "   Num_Credit_Inquiries  Credit_Mix Outstanding_Debt Credit_Utilization_Ratio  \\\n",
            "0                2022.0        Good           809.98                35.030402   \n",
            "1                   4.0        Good           809.98                33.053114   \n",
            "2                   4.0        Good           809.98                33.811894   \n",
            "3                   4.0        Good           809.98                32.430559   \n",
            "4                   5.0        Good           605.03                25.926822   \n",
            "\n",
            "       Credit_History_Age Payment_of_Min_Amount Total_EMI_per_month  \\\n",
            "0   22 Years and 9 Months                    No           49.574949   \n",
            "1  22 Years and 10 Months                    No           49.574949   \n",
            "2                     NaN                    No           49.574949   \n",
            "3   23 Years and 0 Months                    No           49.574949   \n",
            "4   27 Years and 3 Months                    No           18.816215   \n",
            "\n",
            "   Amount_invested_monthly                 Payment_Behaviour  \\\n",
            "0       236.64268203272135    Low_spent_Small_value_payments   \n",
            "1       21.465380264657146  High_spent_Medium_value_payments   \n",
            "2       148.23393788500925   Low_spent_Medium_value_payments   \n",
            "3        39.08251089460281  High_spent_Medium_value_payments   \n",
            "4       39.684018417945296   High_spent_Large_value_payments   \n",
            "\n",
            "      Monthly_Balance  \n",
            "0  186.26670208571772  \n",
            "1  361.44400385378196  \n",
            "2  264.67544623342997  \n",
            "3  343.82687322383634  \n",
            "4   485.2984336755923  \n",
            "\n",
            "[5 rows x 27 columns]\n",
            "\n",
            "DATA TRAIN\n",
            "\n",
            "       ID Customer_ID      Month             Name  Age          SSN  \\\n",
            "0  0x160a   CUS_0xd40  September    Aaron Maashoh   23  821-00-0265   \n",
            "1  0x160b   CUS_0xd40    October    Aaron Maashoh   24  821-00-0265   \n",
            "2  0x160c   CUS_0xd40   November    Aaron Maashoh   24  821-00-0265   \n",
            "3  0x160d   CUS_0xd40   December    Aaron Maashoh  24_  821-00-0265   \n",
            "4  0x1616  CUS_0x21b1  September  Rick Rothackerj   28  004-07-5839   \n",
            "\n",
            "  Occupation Annual_Income  Monthly_Inhand_Salary  Num_Bank_Accounts  ...  \\\n",
            "0  Scientist      19114.12            1824.843333                  3  ...   \n",
            "1  Scientist      19114.12            1824.843333                  3  ...   \n",
            "2  Scientist      19114.12            1824.843333                  3  ...   \n",
            "3  Scientist      19114.12                    NaN                  3  ...   \n",
            "4    _______      34847.84            3037.986667                  2  ...   \n",
            "\n",
            "   Num_Credit_Inquiries  Credit_Mix Outstanding_Debt Credit_Utilization_Ratio  \\\n",
            "0                2022.0        Good           809.98                35.030402   \n",
            "1                   4.0        Good           809.98                33.053114   \n",
            "2                   4.0        Good           809.98                33.811894   \n",
            "3                   4.0        Good           809.98                32.430559   \n",
            "4                   5.0        Good           605.03                25.926822   \n",
            "\n",
            "       Credit_History_Age Payment_of_Min_Amount Total_EMI_per_month  \\\n",
            "0   22 Years and 9 Months                    No           49.574949   \n",
            "1  22 Years and 10 Months                    No           49.574949   \n",
            "2                     NaN                    No           49.574949   \n",
            "3   23 Years and 0 Months                    No           49.574949   \n",
            "4   27 Years and 3 Months                    No           18.816215   \n",
            "\n",
            "   Amount_invested_monthly                 Payment_Behaviour  \\\n",
            "0       236.64268203272135    Low_spent_Small_value_payments   \n",
            "1       21.465380264657146  High_spent_Medium_value_payments   \n",
            "2       148.23393788500925   Low_spent_Medium_value_payments   \n",
            "3        39.08251089460281  High_spent_Medium_value_payments   \n",
            "4       39.684018417945296   High_spent_Large_value_payments   \n",
            "\n",
            "      Monthly_Balance  \n",
            "0  186.26670208571772  \n",
            "1  361.44400385378196  \n",
            "2  264.67544623342997  \n",
            "3  343.82687322383634  \n",
            "4   485.2984336755923  \n",
            "\n",
            "[5 rows x 27 columns]\n"
          ]
        },
        {
          "output_type": "stream",
          "name": "stderr",
          "text": [
            "<ipython-input-125-9b25c77bf228>:3: DtypeWarning: Columns (26) have mixed types. Specify dtype option on import or set low_memory=False.\n",
            "  data_train = pd.read_csv(\"/content/drive/MyDrive/Dataset1/train.csv\")\n"
          ]
        }
      ]
    },
    {
      "cell_type": "code",
      "source": [
        "#Display the dataframe structure test\n",
        "print(\"\\n**DATA TEST**\\n\")\n",
        "data_test.info()\n",
        "\n",
        "print(\"\\n\\n\")\n",
        "\n",
        "#Display the dataframe structure train\n",
        "print(\"\\n**DATA TRAIN**\\n\")\n",
        "data_train.info()"
      ],
      "metadata": {
        "colab": {
          "base_uri": "https://localhost:8080/"
        },
        "id": "_HO6sYn8S3fm",
        "outputId": "ff17f279-99c6-4215-c274-09c03499442c"
      },
      "execution_count": 126,
      "outputs": [
        {
          "output_type": "stream",
          "name": "stdout",
          "text": [
            "\n",
            "**DATA TEST**\n",
            "\n",
            "<class 'pandas.core.frame.DataFrame'>\n",
            "RangeIndex: 50000 entries, 0 to 49999\n",
            "Data columns (total 27 columns):\n",
            " #   Column                    Non-Null Count  Dtype  \n",
            "---  ------                    --------------  -----  \n",
            " 0   ID                        50000 non-null  object \n",
            " 1   Customer_ID               50000 non-null  object \n",
            " 2   Month                     50000 non-null  object \n",
            " 3   Name                      44985 non-null  object \n",
            " 4   Age                       50000 non-null  object \n",
            " 5   SSN                       50000 non-null  object \n",
            " 6   Occupation                50000 non-null  object \n",
            " 7   Annual_Income             50000 non-null  object \n",
            " 8   Monthly_Inhand_Salary     42502 non-null  float64\n",
            " 9   Num_Bank_Accounts         50000 non-null  int64  \n",
            " 10  Num_Credit_Card           50000 non-null  int64  \n",
            " 11  Interest_Rate             50000 non-null  int64  \n",
            " 12  Num_of_Loan               50000 non-null  object \n",
            " 13  Type_of_Loan              44296 non-null  object \n",
            " 14  Delay_from_due_date       50000 non-null  int64  \n",
            " 15  Num_of_Delayed_Payment    46502 non-null  object \n",
            " 16  Changed_Credit_Limit      50000 non-null  object \n",
            " 17  Num_Credit_Inquiries      48965 non-null  float64\n",
            " 18  Credit_Mix                50000 non-null  object \n",
            " 19  Outstanding_Debt          50000 non-null  object \n",
            " 20  Credit_Utilization_Ratio  50000 non-null  float64\n",
            " 21  Credit_History_Age        45530 non-null  object \n",
            " 22  Payment_of_Min_Amount     50000 non-null  object \n",
            " 23  Total_EMI_per_month       50000 non-null  float64\n",
            " 24  Amount_invested_monthly   47729 non-null  object \n",
            " 25  Payment_Behaviour         50000 non-null  object \n",
            " 26  Monthly_Balance           49438 non-null  object \n",
            "dtypes: float64(4), int64(4), object(19)\n",
            "memory usage: 10.3+ MB\n",
            "\n",
            "\n",
            "\n",
            "\n",
            "**DATA TRAIN**\n",
            "\n",
            "<class 'pandas.core.frame.DataFrame'>\n",
            "RangeIndex: 100000 entries, 0 to 99999\n",
            "Data columns (total 28 columns):\n",
            " #   Column                    Non-Null Count   Dtype  \n",
            "---  ------                    --------------   -----  \n",
            " 0   ID                        100000 non-null  object \n",
            " 1   Customer_ID               100000 non-null  object \n",
            " 2   Month                     100000 non-null  object \n",
            " 3   Name                      90015 non-null   object \n",
            " 4   Age                       100000 non-null  object \n",
            " 5   SSN                       100000 non-null  object \n",
            " 6   Occupation                100000 non-null  object \n",
            " 7   Annual_Income             100000 non-null  object \n",
            " 8   Monthly_Inhand_Salary     84998 non-null   float64\n",
            " 9   Num_Bank_Accounts         100000 non-null  int64  \n",
            " 10  Num_Credit_Card           100000 non-null  int64  \n",
            " 11  Interest_Rate             100000 non-null  int64  \n",
            " 12  Num_of_Loan               100000 non-null  object \n",
            " 13  Type_of_Loan              88592 non-null   object \n",
            " 14  Delay_from_due_date       100000 non-null  int64  \n",
            " 15  Num_of_Delayed_Payment    92998 non-null   object \n",
            " 16  Changed_Credit_Limit      100000 non-null  object \n",
            " 17  Num_Credit_Inquiries      98035 non-null   float64\n",
            " 18  Credit_Mix                100000 non-null  object \n",
            " 19  Outstanding_Debt          100000 non-null  object \n",
            " 20  Credit_Utilization_Ratio  100000 non-null  float64\n",
            " 21  Credit_History_Age        90970 non-null   object \n",
            " 22  Payment_of_Min_Amount     100000 non-null  object \n",
            " 23  Total_EMI_per_month       100000 non-null  float64\n",
            " 24  Amount_invested_monthly   95521 non-null   object \n",
            " 25  Payment_Behaviour         100000 non-null  object \n",
            " 26  Monthly_Balance           98800 non-null   object \n",
            " 27  Credit_Score              100000 non-null  object \n",
            "dtypes: float64(4), int64(4), object(20)\n",
            "memory usage: 21.4+ MB\n"
          ]
        }
      ]
    },
    {
      "cell_type": "markdown",
      "source": [
        "Dari data di atas, kita dapat menentukan beberapa informasi penting:\n",
        "\n",
        "\n",
        "**DATA TEST**\n",
        "\n",
        "Jumlah Columns: Terdapat 27 kolom.\n",
        "Dtypes: Tipe data dari setiap kolom adalah sebagai berikut:\n",
        "* Oject: 19 kolom\n",
        "* Int64: 4 kolom\n",
        "* Float64: 4 kolom\n",
        "Memory Usage: Memory yang digunakan sekitar 10.3+ MB.\n",
        "Terdapa Non-Null Count: Nilai jumlah yang kosong\n",
        "\n",
        "\n",
        "**DATA TRAIN**\n",
        "\n",
        "Jumlah Columns: Terdapat 28 kolom.\n",
        "Dtypes: Tipe data dari setiap kolom adalah sebagai berikut:\n",
        "* Oject: 20 kolom\n",
        "* Int64: 4 kolom\n",
        "* Float64: 4 kolom\n",
        "Memory Usage: Memory yang digunakan sekitar 21.4+ MB.\n",
        "Terdapa Non-Null Count: Nilai jumlah yang kosong"
      ],
      "metadata": {
        "id": "ZAcME02aUD33"
      }
    },
    {
      "cell_type": "code",
      "source": [
        "# Daftar kolom yang tidak diperlukan\n",
        "columns_to_drop = ['ID', 'Customer_ID', 'Name', 'SSN', 'Credit_History_Age', 'Type_of_Loan']\n",
        "\n",
        "# Menghapus kolom yang tidak diperlukan dari dataset train\n",
        "data_train.drop(columns=columns_to_drop, inplace=True)\n",
        "\n",
        "# Menghapus kolom yang tidak diperlukan dari dataset test\n",
        "data_test.drop(columns=columns_to_drop, inplace=True)\n",
        "\n",
        "# Menampilkan dataset train setelah penghapusan kolom\n",
        "print(\"Train Dataset Setelah Penghapusan Kolom:\")\n",
        "data_train.describe()\n",
        "\n",
        "# Menampilkan dataset test setelah penghapusan kolom\n",
        "print(\"\\nTest Dataset Setelah Penghapusan Kolom:\")\n",
        "data_test.describe()\n"
      ],
      "metadata": {
        "colab": {
          "base_uri": "https://localhost:8080/",
          "height": 352
        },
        "id": "n9lZWAJEXigs",
        "outputId": "a5d9a3cf-1e33-43a1-9113-538cda6d798d"
      },
      "execution_count": 127,
      "outputs": [
        {
          "output_type": "stream",
          "name": "stdout",
          "text": [
            "Train Dataset Setelah Penghapusan Kolom:\n",
            "\n",
            "Test Dataset Setelah Penghapusan Kolom:\n"
          ]
        },
        {
          "output_type": "execute_result",
          "data": {
            "text/plain": [
              "       Monthly_Inhand_Salary  Num_Bank_Accounts  Num_Credit_Card  \\\n",
              "count           42502.000000       50000.000000     50000.000000   \n",
              "mean             4182.004291          16.838260        22.921480   \n",
              "std              3174.109304         116.396848       129.314804   \n",
              "min               303.645417          -1.000000         0.000000   \n",
              "25%              1625.188333           3.000000         4.000000   \n",
              "50%              3086.305000           6.000000         5.000000   \n",
              "75%              5934.189094           7.000000         7.000000   \n",
              "max             15204.633333        1798.000000      1499.000000   \n",
              "\n",
              "       Interest_Rate  Delay_from_due_date  Num_Credit_Inquiries  \\\n",
              "count   50000.000000         50000.000000          48965.000000   \n",
              "mean       68.772640            21.052640             30.080200   \n",
              "std       451.602363            14.860397            196.984121   \n",
              "min         1.000000            -5.000000              0.000000   \n",
              "25%         8.000000            10.000000              4.000000   \n",
              "50%        13.000000            18.000000              7.000000   \n",
              "75%        20.000000            28.000000             10.000000   \n",
              "max      5799.000000            67.000000           2593.000000   \n",
              "\n",
              "       Credit_Utilization_Ratio  Total_EMI_per_month  \n",
              "count              50000.000000         50000.000000  \n",
              "mean                  32.279581          1491.304305  \n",
              "std                    5.106238          8595.647887  \n",
              "min                   20.509652             0.000000  \n",
              "25%                   28.061040            32.222388  \n",
              "50%                   32.280390            74.733349  \n",
              "75%                   36.468591           176.157491  \n",
              "max                   48.540663         82398.000000  "
            ],
            "text/html": [
              "\n",
              "  <div id=\"df-cfe44ae0-0459-4afd-9a77-f8c54d0220e4\" class=\"colab-df-container\">\n",
              "    <div>\n",
              "<style scoped>\n",
              "    .dataframe tbody tr th:only-of-type {\n",
              "        vertical-align: middle;\n",
              "    }\n",
              "\n",
              "    .dataframe tbody tr th {\n",
              "        vertical-align: top;\n",
              "    }\n",
              "\n",
              "    .dataframe thead th {\n",
              "        text-align: right;\n",
              "    }\n",
              "</style>\n",
              "<table border=\"1\" class=\"dataframe\">\n",
              "  <thead>\n",
              "    <tr style=\"text-align: right;\">\n",
              "      <th></th>\n",
              "      <th>Monthly_Inhand_Salary</th>\n",
              "      <th>Num_Bank_Accounts</th>\n",
              "      <th>Num_Credit_Card</th>\n",
              "      <th>Interest_Rate</th>\n",
              "      <th>Delay_from_due_date</th>\n",
              "      <th>Num_Credit_Inquiries</th>\n",
              "      <th>Credit_Utilization_Ratio</th>\n",
              "      <th>Total_EMI_per_month</th>\n",
              "    </tr>\n",
              "  </thead>\n",
              "  <tbody>\n",
              "    <tr>\n",
              "      <th>count</th>\n",
              "      <td>42502.000000</td>\n",
              "      <td>50000.000000</td>\n",
              "      <td>50000.000000</td>\n",
              "      <td>50000.000000</td>\n",
              "      <td>50000.000000</td>\n",
              "      <td>48965.000000</td>\n",
              "      <td>50000.000000</td>\n",
              "      <td>50000.000000</td>\n",
              "    </tr>\n",
              "    <tr>\n",
              "      <th>mean</th>\n",
              "      <td>4182.004291</td>\n",
              "      <td>16.838260</td>\n",
              "      <td>22.921480</td>\n",
              "      <td>68.772640</td>\n",
              "      <td>21.052640</td>\n",
              "      <td>30.080200</td>\n",
              "      <td>32.279581</td>\n",
              "      <td>1491.304305</td>\n",
              "    </tr>\n",
              "    <tr>\n",
              "      <th>std</th>\n",
              "      <td>3174.109304</td>\n",
              "      <td>116.396848</td>\n",
              "      <td>129.314804</td>\n",
              "      <td>451.602363</td>\n",
              "      <td>14.860397</td>\n",
              "      <td>196.984121</td>\n",
              "      <td>5.106238</td>\n",
              "      <td>8595.647887</td>\n",
              "    </tr>\n",
              "    <tr>\n",
              "      <th>min</th>\n",
              "      <td>303.645417</td>\n",
              "      <td>-1.000000</td>\n",
              "      <td>0.000000</td>\n",
              "      <td>1.000000</td>\n",
              "      <td>-5.000000</td>\n",
              "      <td>0.000000</td>\n",
              "      <td>20.509652</td>\n",
              "      <td>0.000000</td>\n",
              "    </tr>\n",
              "    <tr>\n",
              "      <th>25%</th>\n",
              "      <td>1625.188333</td>\n",
              "      <td>3.000000</td>\n",
              "      <td>4.000000</td>\n",
              "      <td>8.000000</td>\n",
              "      <td>10.000000</td>\n",
              "      <td>4.000000</td>\n",
              "      <td>28.061040</td>\n",
              "      <td>32.222388</td>\n",
              "    </tr>\n",
              "    <tr>\n",
              "      <th>50%</th>\n",
              "      <td>3086.305000</td>\n",
              "      <td>6.000000</td>\n",
              "      <td>5.000000</td>\n",
              "      <td>13.000000</td>\n",
              "      <td>18.000000</td>\n",
              "      <td>7.000000</td>\n",
              "      <td>32.280390</td>\n",
              "      <td>74.733349</td>\n",
              "    </tr>\n",
              "    <tr>\n",
              "      <th>75%</th>\n",
              "      <td>5934.189094</td>\n",
              "      <td>7.000000</td>\n",
              "      <td>7.000000</td>\n",
              "      <td>20.000000</td>\n",
              "      <td>28.000000</td>\n",
              "      <td>10.000000</td>\n",
              "      <td>36.468591</td>\n",
              "      <td>176.157491</td>\n",
              "    </tr>\n",
              "    <tr>\n",
              "      <th>max</th>\n",
              "      <td>15204.633333</td>\n",
              "      <td>1798.000000</td>\n",
              "      <td>1499.000000</td>\n",
              "      <td>5799.000000</td>\n",
              "      <td>67.000000</td>\n",
              "      <td>2593.000000</td>\n",
              "      <td>48.540663</td>\n",
              "      <td>82398.000000</td>\n",
              "    </tr>\n",
              "  </tbody>\n",
              "</table>\n",
              "</div>\n",
              "    <div class=\"colab-df-buttons\">\n",
              "\n",
              "  <div class=\"colab-df-container\">\n",
              "    <button class=\"colab-df-convert\" onclick=\"convertToInteractive('df-cfe44ae0-0459-4afd-9a77-f8c54d0220e4')\"\n",
              "            title=\"Convert this dataframe to an interactive table.\"\n",
              "            style=\"display:none;\">\n",
              "\n",
              "  <svg xmlns=\"http://www.w3.org/2000/svg\" height=\"24px\" viewBox=\"0 -960 960 960\">\n",
              "    <path d=\"M120-120v-720h720v720H120Zm60-500h600v-160H180v160Zm220 220h160v-160H400v160Zm0 220h160v-160H400v160ZM180-400h160v-160H180v160Zm440 0h160v-160H620v160ZM180-180h160v-160H180v160Zm440 0h160v-160H620v160Z\"/>\n",
              "  </svg>\n",
              "    </button>\n",
              "\n",
              "  <style>\n",
              "    .colab-df-container {\n",
              "      display:flex;\n",
              "      gap: 12px;\n",
              "    }\n",
              "\n",
              "    .colab-df-convert {\n",
              "      background-color: #E8F0FE;\n",
              "      border: none;\n",
              "      border-radius: 50%;\n",
              "      cursor: pointer;\n",
              "      display: none;\n",
              "      fill: #1967D2;\n",
              "      height: 32px;\n",
              "      padding: 0 0 0 0;\n",
              "      width: 32px;\n",
              "    }\n",
              "\n",
              "    .colab-df-convert:hover {\n",
              "      background-color: #E2EBFA;\n",
              "      box-shadow: 0px 1px 2px rgba(60, 64, 67, 0.3), 0px 1px 3px 1px rgba(60, 64, 67, 0.15);\n",
              "      fill: #174EA6;\n",
              "    }\n",
              "\n",
              "    .colab-df-buttons div {\n",
              "      margin-bottom: 4px;\n",
              "    }\n",
              "\n",
              "    [theme=dark] .colab-df-convert {\n",
              "      background-color: #3B4455;\n",
              "      fill: #D2E3FC;\n",
              "    }\n",
              "\n",
              "    [theme=dark] .colab-df-convert:hover {\n",
              "      background-color: #434B5C;\n",
              "      box-shadow: 0px 1px 3px 1px rgba(0, 0, 0, 0.15);\n",
              "      filter: drop-shadow(0px 1px 2px rgba(0, 0, 0, 0.3));\n",
              "      fill: #FFFFFF;\n",
              "    }\n",
              "  </style>\n",
              "\n",
              "    <script>\n",
              "      const buttonEl =\n",
              "        document.querySelector('#df-cfe44ae0-0459-4afd-9a77-f8c54d0220e4 button.colab-df-convert');\n",
              "      buttonEl.style.display =\n",
              "        google.colab.kernel.accessAllowed ? 'block' : 'none';\n",
              "\n",
              "      async function convertToInteractive(key) {\n",
              "        const element = document.querySelector('#df-cfe44ae0-0459-4afd-9a77-f8c54d0220e4');\n",
              "        const dataTable =\n",
              "          await google.colab.kernel.invokeFunction('convertToInteractive',\n",
              "                                                    [key], {});\n",
              "        if (!dataTable) return;\n",
              "\n",
              "        const docLinkHtml = 'Like what you see? Visit the ' +\n",
              "          '<a target=\"_blank\" href=https://colab.research.google.com/notebooks/data_table.ipynb>data table notebook</a>'\n",
              "          + ' to learn more about interactive tables.';\n",
              "        element.innerHTML = '';\n",
              "        dataTable['output_type'] = 'display_data';\n",
              "        await google.colab.output.renderOutput(dataTable, element);\n",
              "        const docLink = document.createElement('div');\n",
              "        docLink.innerHTML = docLinkHtml;\n",
              "        element.appendChild(docLink);\n",
              "      }\n",
              "    </script>\n",
              "  </div>\n",
              "\n",
              "\n",
              "<div id=\"df-e4d32a1e-5ed3-4da2-98ef-9ef9faeb97a5\">\n",
              "  <button class=\"colab-df-quickchart\" onclick=\"quickchart('df-e4d32a1e-5ed3-4da2-98ef-9ef9faeb97a5')\"\n",
              "            title=\"Suggest charts\"\n",
              "            style=\"display:none;\">\n",
              "\n",
              "<svg xmlns=\"http://www.w3.org/2000/svg\" height=\"24px\"viewBox=\"0 0 24 24\"\n",
              "     width=\"24px\">\n",
              "    <g>\n",
              "        <path d=\"M19 3H5c-1.1 0-2 .9-2 2v14c0 1.1.9 2 2 2h14c1.1 0 2-.9 2-2V5c0-1.1-.9-2-2-2zM9 17H7v-7h2v7zm4 0h-2V7h2v10zm4 0h-2v-4h2v4z\"/>\n",
              "    </g>\n",
              "</svg>\n",
              "  </button>\n",
              "\n",
              "<style>\n",
              "  .colab-df-quickchart {\n",
              "      --bg-color: #E8F0FE;\n",
              "      --fill-color: #1967D2;\n",
              "      --hover-bg-color: #E2EBFA;\n",
              "      --hover-fill-color: #174EA6;\n",
              "      --disabled-fill-color: #AAA;\n",
              "      --disabled-bg-color: #DDD;\n",
              "  }\n",
              "\n",
              "  [theme=dark] .colab-df-quickchart {\n",
              "      --bg-color: #3B4455;\n",
              "      --fill-color: #D2E3FC;\n",
              "      --hover-bg-color: #434B5C;\n",
              "      --hover-fill-color: #FFFFFF;\n",
              "      --disabled-bg-color: #3B4455;\n",
              "      --disabled-fill-color: #666;\n",
              "  }\n",
              "\n",
              "  .colab-df-quickchart {\n",
              "    background-color: var(--bg-color);\n",
              "    border: none;\n",
              "    border-radius: 50%;\n",
              "    cursor: pointer;\n",
              "    display: none;\n",
              "    fill: var(--fill-color);\n",
              "    height: 32px;\n",
              "    padding: 0;\n",
              "    width: 32px;\n",
              "  }\n",
              "\n",
              "  .colab-df-quickchart:hover {\n",
              "    background-color: var(--hover-bg-color);\n",
              "    box-shadow: 0 1px 2px rgba(60, 64, 67, 0.3), 0 1px 3px 1px rgba(60, 64, 67, 0.15);\n",
              "    fill: var(--button-hover-fill-color);\n",
              "  }\n",
              "\n",
              "  .colab-df-quickchart-complete:disabled,\n",
              "  .colab-df-quickchart-complete:disabled:hover {\n",
              "    background-color: var(--disabled-bg-color);\n",
              "    fill: var(--disabled-fill-color);\n",
              "    box-shadow: none;\n",
              "  }\n",
              "\n",
              "  .colab-df-spinner {\n",
              "    border: 2px solid var(--fill-color);\n",
              "    border-color: transparent;\n",
              "    border-bottom-color: var(--fill-color);\n",
              "    animation:\n",
              "      spin 1s steps(1) infinite;\n",
              "  }\n",
              "\n",
              "  @keyframes spin {\n",
              "    0% {\n",
              "      border-color: transparent;\n",
              "      border-bottom-color: var(--fill-color);\n",
              "      border-left-color: var(--fill-color);\n",
              "    }\n",
              "    20% {\n",
              "      border-color: transparent;\n",
              "      border-left-color: var(--fill-color);\n",
              "      border-top-color: var(--fill-color);\n",
              "    }\n",
              "    30% {\n",
              "      border-color: transparent;\n",
              "      border-left-color: var(--fill-color);\n",
              "      border-top-color: var(--fill-color);\n",
              "      border-right-color: var(--fill-color);\n",
              "    }\n",
              "    40% {\n",
              "      border-color: transparent;\n",
              "      border-right-color: var(--fill-color);\n",
              "      border-top-color: var(--fill-color);\n",
              "    }\n",
              "    60% {\n",
              "      border-color: transparent;\n",
              "      border-right-color: var(--fill-color);\n",
              "    }\n",
              "    80% {\n",
              "      border-color: transparent;\n",
              "      border-right-color: var(--fill-color);\n",
              "      border-bottom-color: var(--fill-color);\n",
              "    }\n",
              "    90% {\n",
              "      border-color: transparent;\n",
              "      border-bottom-color: var(--fill-color);\n",
              "    }\n",
              "  }\n",
              "</style>\n",
              "\n",
              "  <script>\n",
              "    async function quickchart(key) {\n",
              "      const quickchartButtonEl =\n",
              "        document.querySelector('#' + key + ' button');\n",
              "      quickchartButtonEl.disabled = true;  // To prevent multiple clicks.\n",
              "      quickchartButtonEl.classList.add('colab-df-spinner');\n",
              "      try {\n",
              "        const charts = await google.colab.kernel.invokeFunction(\n",
              "            'suggestCharts', [key], {});\n",
              "      } catch (error) {\n",
              "        console.error('Error during call to suggestCharts:', error);\n",
              "      }\n",
              "      quickchartButtonEl.classList.remove('colab-df-spinner');\n",
              "      quickchartButtonEl.classList.add('colab-df-quickchart-complete');\n",
              "    }\n",
              "    (() => {\n",
              "      let quickchartButtonEl =\n",
              "        document.querySelector('#df-e4d32a1e-5ed3-4da2-98ef-9ef9faeb97a5 button');\n",
              "      quickchartButtonEl.style.display =\n",
              "        google.colab.kernel.accessAllowed ? 'block' : 'none';\n",
              "    })();\n",
              "  </script>\n",
              "</div>\n",
              "    </div>\n",
              "  </div>\n"
            ],
            "application/vnd.google.colaboratory.intrinsic+json": {
              "type": "dataframe",
              "summary": "{\n  \"name\": \"data_test\",\n  \"rows\": 8,\n  \"fields\": [\n    {\n      \"column\": \"Monthly_Inhand_Salary\",\n      \"properties\": {\n        \"dtype\": \"number\",\n        \"std\": 14093.609930338567,\n        \"min\": 303.6454166666666,\n        \"max\": 42502.0,\n        \"num_unique_values\": 8,\n        \"samples\": [\n          4182.0042912035815,\n          3086.305,\n          42502.0\n        ],\n        \"semantic_type\": \"\",\n        \"description\": \"\"\n      }\n    },\n    {\n      \"column\": \"Num_Bank_Accounts\",\n      \"properties\": {\n        \"dtype\": \"number\",\n        \"std\": 17590.359831510235,\n        \"min\": -1.0,\n        \"max\": 50000.0,\n        \"num_unique_values\": 8,\n        \"samples\": [\n          16.83826,\n          6.0,\n          50000.0\n        ],\n        \"semantic_type\": \"\",\n        \"description\": \"\"\n      }\n    },\n    {\n      \"column\": \"Num_Credit_Card\",\n      \"properties\": {\n        \"dtype\": \"number\",\n        \"std\": 17601.04065736757,\n        \"min\": 0.0,\n        \"max\": 50000.0,\n        \"num_unique_values\": 8,\n        \"samples\": [\n          22.92148,\n          5.0,\n          50000.0\n        ],\n        \"semantic_type\": \"\",\n        \"description\": \"\"\n      }\n    },\n    {\n      \"column\": \"Interest_Rate\",\n      \"properties\": {\n        \"dtype\": \"number\",\n        \"std\": 17471.454822663665,\n        \"min\": 1.0,\n        \"max\": 50000.0,\n        \"num_unique_values\": 8,\n        \"samples\": [\n          68.77264,\n          13.0,\n          50000.0\n        ],\n        \"semantic_type\": \"\",\n        \"description\": \"\"\n      }\n    },\n    {\n      \"column\": \"Delay_from_due_date\",\n      \"properties\": {\n        \"dtype\": \"number\",\n        \"std\": 17669.907882074043,\n        \"min\": -5.0,\n        \"max\": 50000.0,\n        \"num_unique_values\": 8,\n        \"samples\": [\n          21.05264,\n          18.0,\n          50000.0\n        ],\n        \"semantic_type\": \"\",\n        \"description\": \"\"\n      }\n    },\n    {\n      \"column\": \"Num_Credit_Inquiries\",\n      \"properties\": {\n        \"dtype\": \"number\",\n        \"std\": 17191.57272375368,\n        \"min\": 0.0,\n        \"max\": 48965.0,\n        \"num_unique_values\": 8,\n        \"samples\": [\n          30.080200142959256,\n          7.0,\n          48965.0\n        ],\n        \"semantic_type\": \"\",\n        \"description\": \"\"\n      }\n    },\n    {\n      \"column\": \"Credit_Utilization_Ratio\",\n      \"properties\": {\n        \"dtype\": \"number\",\n        \"std\": 17667.40850803743,\n        \"min\": 5.106237732719511,\n        \"max\": 50000.0,\n        \"num_unique_values\": 8,\n        \"samples\": [\n          32.279581124559016,\n          32.280389583603515,\n          50000.0\n        ],\n        \"semantic_type\": \"\",\n        \"description\": \"\"\n      }\n    },\n    {\n      \"column\": \"Total_EMI_per_month\",\n      \"properties\": {\n        \"dtype\": \"number\",\n        \"std\": 31208.371466126722,\n        \"min\": 0.0,\n        \"max\": 82398.0,\n        \"num_unique_values\": 8,\n        \"samples\": [\n          1491.3043051638474,\n          74.73334890870491,\n          50000.0\n        ],\n        \"semantic_type\": \"\",\n        \"description\": \"\"\n      }\n    }\n  ]\n}"
            }
          },
          "metadata": {},
          "execution_count": 127
        }
      ]
    },
    {
      "cell_type": "markdown",
      "source": [
        "# **Data Preprocess**"
      ],
      "metadata": {
        "id": "vZX6RbYLZTuB"
      }
    },
    {
      "cell_type": "markdown",
      "source": [
        "**Formatted Data**"
      ],
      "metadata": {
        "id": "Y_to7KwSZW1q"
      }
    },
    {
      "cell_type": "code",
      "source": [
        "#Deleted \"_\"\n",
        "data_train = data_train.applymap(lambda x: x.replace('_', '') if isinstance(x, str) else x)\n",
        "data_test = data_test.applymap(lambda x: x.replace('_', '') if isinstance(x, str) else x)"
      ],
      "metadata": {
        "id": "WY-TWzboZjNI"
      },
      "execution_count": 128,
      "outputs": []
    },
    {
      "cell_type": "code",
      "source": [
        "#EnCoding Categorical\n",
        "\n",
        "# Mendapatkan fitur kategori (categorical features)\n",
        "categorical = ['Month',\"Occupation\",\"Credit_Mix\",\"Payment_of_Min_Amount\",\"Payment_Behaviour\",\"Credit_Score\"]\n",
        "label_encoder = LabelEncoder()\n",
        "\n",
        "# Melakukan one-hot encoding pada dataset test\n",
        "for x in categorical[:-1]:\n",
        "    data_test[x] = label_encoder.fit_transform(data_test[x])\n",
        "\n",
        "# Melakukan one-hot encoding pada dataset train\n",
        "for x in categorical:\n",
        "    data_train[x] = label_encoder.fit_transform(data_train[x])\n",
        "\n",
        "# Filter out negative values in numeric columns test\n",
        "data_test = data_test.apply(pd.to_numeric,errors='coerce')\n",
        "data_test = data_test.applymap(lambda x: x if x >= 0 else None)\n",
        "data_test.dropna(axis=0,inplace=True)\n",
        "\n",
        "# Filter out negative values in numeric columns train\n",
        "data_train = data_train.apply(pd.to_numeric,errors='coerce')\n",
        "data_train = data_train.applymap(lambda x: x if x >= 0 else None)\n",
        "data_train.dropna(axis=0,inplace=True)"
      ],
      "metadata": {
        "id": "_qFYAGEPaUAs"
      },
      "execution_count": 129,
      "outputs": []
    },
    {
      "cell_type": "code",
      "source": [
        "# Calculate quartiles for each feature\n",
        "quartiles1 = data_test.quantile([0.25, 0.75])\n",
        "quartiles2 = data_train.quantile([0.25, 0.75])"
      ],
      "metadata": {
        "id": "OBi7BqEpbPtf"
      },
      "execution_count": 130,
      "outputs": []
    },
    {
      "cell_type": "code",
      "source": [
        "# Calculate IQR\n",
        "IQR1 = quartiles1.loc[0.75] - quartiles1.loc[0.25]\n",
        "IQR2 = quartiles2.loc[0.75] - quartiles2.loc[0.25]\n"
      ],
      "metadata": {
        "id": "SyA30-gZc5ye"
      },
      "execution_count": 131,
      "outputs": []
    },
    {
      "cell_type": "code",
      "source": [
        "#  Define lower and upper bounds for each feature\n",
        "lower_bound1 = (quartiles1.loc[0.25] - 1.5 * IQR1).to_dict()\n",
        "upper_bound1 = (quartiles1.loc[0.75] + 1.5 * IQR1).to_dict()\n",
        "lower_bound2 = (quartiles2.loc[0.25] - 1.5 * IQR2).to_dict()\n",
        "upper_bound2 = (quartiles2.loc[0.75] + 1.5 * IQR2).to_dict()"
      ],
      "metadata": {
        "id": "zg31ag_HieAG"
      },
      "execution_count": 132,
      "outputs": []
    },
    {
      "cell_type": "code",
      "source": [
        "# Filter out data points outside the bounds for each feature\n",
        "filtered_data1 = data_test.copy()\n",
        "for feature in data_test.columns:\n",
        "    lower_bound_value1 = lower_bound1[feature]\n",
        "    upper_bound_value1 = upper_bound1[feature]\n",
        "    filtered_data1 = filtered_data1[(filtered_data1[feature] >= lower_bound_value1) & (filtered_data1[feature] <= upper_bound_value1)]\n",
        "data_test = filtered_data1\n",
        "\n",
        "filtered_data2 = data_train.copy()\n",
        "for feature in data_train.columns:\n",
        "    lower_bound_value2 = lower_bound2[feature]\n",
        "    upper_bound_value2 = upper_bound2[feature]\n",
        "    filtered_data2 = filtered_data2[(filtered_data2[feature] >= lower_bound_value2) & (filtered_data2[feature] <= upper_bound_value2)]\n",
        "data_train = filtered_data2"
      ],
      "metadata": {
        "id": "64-mD4sHwYOm"
      },
      "execution_count": 133,
      "outputs": []
    },
    {
      "cell_type": "markdown",
      "source": [
        "# **Random Forest Model**"
      ],
      "metadata": {
        "id": "zDNzePFskP22"
      }
    },
    {
      "cell_type": "code",
      "source": [
        "# Memilih fitur-fitur yang bukan tipe data integer untuk data train\n",
        "X_train = data_train.drop('Credit_Score',axis=1)\n",
        "y_train = data_train['Credit_Score']\n",
        "\n",
        "# Memilih fitur-fitur yang sama untuk data test\n",
        "X_test = data_test\n",
        "\n",
        "# Membagi data train menjadi data latih dan data validasi\n",
        "X_train, X_valid, y_train, y_valid = train_test_split(X_train, y_train, test_size=0.1, random_state=42)\n"
      ],
      "metadata": {
        "id": "63jECYk9lyCt"
      },
      "execution_count": 134,
      "outputs": []
    },
    {
      "cell_type": "code",
      "source": [
        "# Create Random Forest model\n",
        "rf_model = RandomForestClassifier(n_estimators=100, random_state=42)  # You can adjust the number of estimators\n",
        "\n",
        "# Train the model\n",
        "rf_model.fit(X_train, y_train)\n",
        "\n",
        "# Make predictions\n",
        "y_pred_valid_rf = rf_model.predict(X_valid)"
      ],
      "metadata": {
        "id": "dnkWrjJcwiJ3"
      },
      "execution_count": 135,
      "outputs": []
    },
    {
      "cell_type": "code",
      "source": [
        "# Evaluate the model\n",
        "accuracy = accuracy_score(y_valid, y_pred_valid_rf)\n",
        "print(\"Accuracy:\", accuracy)\n",
        "\n",
        "# Evaluate the model\n",
        "accuracy = accuracy_score(y_valid, y_pred_valid_rf)\n",
        "print(\"Accuracy:\", accuracy)\n",
        "\n",
        "# Calculate mean squared error (MSE)\n",
        "mse = mean_squared_error(y_valid, y_pred_valid_rf)\n",
        "print(\"Mean Squared Error:\", mse)\n",
        "\n",
        "# Calculate mean absolute error (MAE)\n",
        "mae = mean_absolute_error(y_valid, y_pred_valid_rf)\n",
        "print(\"Mean Absolute Error:\", mae)"
      ],
      "metadata": {
        "colab": {
          "base_uri": "https://localhost:8080/"
        },
        "id": "I6enKD71x_e8",
        "outputId": "50f2762e-a80d-4ce5-88d5-b146470d7221"
      },
      "execution_count": 136,
      "outputs": [
        {
          "output_type": "stream",
          "name": "stdout",
          "text": [
            "Accuracy: 0.7950084807366126\n",
            "Accuracy: 0.7950084807366126\n",
            "Mean Squared Error: 0.4521444148291737\n",
            "Mean Absolute Error: 0.28737581778531623\n"
          ]
        }
      ]
    }
  ]
}